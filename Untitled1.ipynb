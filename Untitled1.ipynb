{
 "cells": [
  {
   "cell_type": "markdown",
   "id": "ee65ec24",
   "metadata": {},
   "source": [
    "# Spatial Pyramid Pooling"
   ]
  },
  {
   "cell_type": "code",
   "execution_count": 1,
   "id": "b5102762",
   "metadata": {
    "scrolled": true
   },
   "outputs": [
    {
     "name": "stdout",
     "output_type": "stream",
     "text": [
      "Requirement already satisfied: scikit-image in /Users/jeevanreddyramireddy/opt/anaconda3/lib/python3.9/site-packages (0.19.2)\n",
      "Requirement already satisfied: PyWavelets>=1.1.1 in /Users/jeevanreddyramireddy/opt/anaconda3/lib/python3.9/site-packages (from scikit-image) (1.3.0)\n",
      "Requirement already satisfied: networkx>=2.2 in /Users/jeevanreddyramireddy/opt/anaconda3/lib/python3.9/site-packages (from scikit-image) (2.8.4)\n",
      "Requirement already satisfied: scipy>=1.4.1 in /Users/jeevanreddyramireddy/opt/anaconda3/lib/python3.9/site-packages (from scikit-image) (1.9.1)\n",
      "Requirement already satisfied: imageio>=2.4.1 in /Users/jeevanreddyramireddy/opt/anaconda3/lib/python3.9/site-packages (from scikit-image) (2.19.3)\n",
      "Requirement already satisfied: pillow!=7.1.0,!=7.1.1,!=8.3.0,>=6.1.0 in /Users/jeevanreddyramireddy/opt/anaconda3/lib/python3.9/site-packages (from scikit-image) (9.2.0)\n",
      "Requirement already satisfied: tifffile>=2019.7.26 in /Users/jeevanreddyramireddy/opt/anaconda3/lib/python3.9/site-packages (from scikit-image) (2021.7.2)\n",
      "Requirement already satisfied: packaging>=20.0 in /Users/jeevanreddyramireddy/opt/anaconda3/lib/python3.9/site-packages (from scikit-image) (21.3)\n",
      "Requirement already satisfied: numpy>=1.17.0 in /Users/jeevanreddyramireddy/opt/anaconda3/lib/python3.9/site-packages (from scikit-image) (1.21.5)\n",
      "Requirement already satisfied: pyparsing!=3.0.5,>=2.0.2 in /Users/jeevanreddyramireddy/opt/anaconda3/lib/python3.9/site-packages (from packaging>=20.0->scikit-image) (3.0.9)\n",
      "Note: you may need to restart the kernel to use updated packages.\n"
     ]
    }
   ],
   "source": [
    "pip install scikit-image\n"
   ]
  },
  {
   "cell_type": "code",
   "execution_count": 1,
   "id": "cf6a86a3",
   "metadata": {},
   "outputs": [
    {
     "name": "stderr",
     "output_type": "stream",
     "text": [
      "/Users/jeevanreddyramireddy/opt/anaconda3/lib/python3.9/site-packages/scipy/__init__.py:155: UserWarning: A NumPy version >=1.18.5 and <1.25.0 is required for this version of SciPy (detected version 1.26.4\n",
      "  warnings.warn(f\"A NumPy version >={np_minversion} and <{np_maxversion}\"\n"
     ]
    }
   ],
   "source": [
    "import cv2\n",
    "import numpy as np\n",
    "from skimage import transform\n"
   ]
  },
  {
   "cell_type": "code",
   "execution_count": 2,
   "id": "4791fa67",
   "metadata": {},
   "outputs": [],
   "source": [
    "def spatial_pyramid_pooling(img, levels):\n",
    "    height, width, _ = img.shape\n",
    "    pooled_features = []\n",
    "    for level in levels:\n",
    "        grid_size = (2 ** level, 2 ** level)\n",
    "        cell_size = (height // grid_size[0], width // grid_size[1])\n",
    "        for i in range(grid_size[0]):\n",
    "            for j in range(grid_size[1]):\n",
    "                cell = img[i * cell_size[0]:(i + 1) * cell_size[0], j * cell_size[1]:(j + 1) * cell_size[1]]\n",
    "                pooled_features.append(np.mean(cell, axis=(0, 1)))\n",
    "    return np.array(pooled_features)"
   ]
  },
  {
   "cell_type": "code",
   "execution_count": null,
   "id": "9fd1e0d1",
   "metadata": {},
   "outputs": [],
   "source": [
    "import os\n",
    "import cv2\n",
    "import numpy as np\n",
    "\n",
    "def load_dataset(dataset_path):\n",
    "    images = []\n",
    "    labels = []\n",
    "    for root, dirs, files in os.walk(dataset_path):\n",
    "        for file in files:\n",
    "            if file.endswith(\".png\") or file.endswith(\".jpg\"):\n",
    "                image_path = os.path.join(root, file)\n",
    "                label = os.path.basename(root)  # Assuming each subdirectory represents a class\n",
    "                # Read the image\n",
    "                image = cv2.imread(image_path)\n",
    "                # Apply median filter\n",
    "                image = cv2.medianBlur(image, 3)  # Adjust kernel size as needed\n",
    "                # Resize image to a fixed size\n",
    "                image = cv2.resize(image, (32, 32))\n",
    "                # You can perform additional preprocessing steps here if needed\n",
    "                images.append(image)\n",
    "                labels.append(label)\n",
    "    return images, labels\n"
   ]
  },
  {
   "cell_type": "code",
   "execution_count": null,
   "id": "4d27ad14",
   "metadata": {},
   "outputs": [],
   "source": [
    "dataset_path = 'datSet'\n",
    "images, labels = load_dataset(dataset_path)"
   ]
  },
  {
   "cell_type": "code",
   "execution_count": 16,
   "id": "0580c001",
   "metadata": {},
   "outputs": [],
   "source": [
    "images = np.array(images)"
   ]
  },
  {
   "cell_type": "code",
   "execution_count": 17,
   "id": "45f1db9e",
   "metadata": {},
   "outputs": [],
   "source": [
    "levels = [1, 2, 4]  # Define the levels of the pyramid (e.g., 1x1, 2x2, 4x4)\n",
    "pooled_features = [spatial_pyramid_pooling(img, levels) for img in images]"
   ]
  },
  {
   "cell_type": "code",
   "execution_count": 18,
   "id": "9c501708",
   "metadata": {},
   "outputs": [],
   "source": [
    "data = np.array(pooled_features)\n"
   ]
  },
  {
   "cell_type": "code",
   "execution_count": 19,
   "id": "902017ef",
   "metadata": {},
   "outputs": [],
   "source": [
    "from sklearn.svm import SVC\n",
    "from sklearn.metrics import accuracy_score\n",
    "from sklearn.model_selection import train_test_split"
   ]
  },
  {
   "cell_type": "code",
   "execution_count": 20,
   "id": "2fc0aa47",
   "metadata": {},
   "outputs": [],
   "source": [
    "X_train, X_test, y_train, y_test = train_test_split(data, labels, test_size=0.2, random_state=42)\n"
   ]
  },
  {
   "cell_type": "code",
   "execution_count": 21,
   "id": "cafca5f3",
   "metadata": {},
   "outputs": [],
   "source": [
    "svm_classifier = SVC()\n"
   ]
  },
  {
   "cell_type": "code",
   "execution_count": 22,
   "id": "e6fe2e9a",
   "metadata": {},
   "outputs": [
    {
     "data": {
      "text/plain": [
       "SVC()"
      ]
     },
     "execution_count": 22,
     "metadata": {},
     "output_type": "execute_result"
    }
   ],
   "source": [
    "# Flatten the images before applying SPP\n",
    "X_train_flattened = X_train.reshape(X_train.shape[0], -1)\n",
    "\n",
    "# Train the SVM classifier\n",
    "svm_classifier.fit(X_train_flattened, y_train)\n"
   ]
  },
  {
   "cell_type": "code",
   "execution_count": 23,
   "id": "dedd11c8",
   "metadata": {},
   "outputs": [],
   "source": [
    "X_test_flattened = X_test.reshape(X_test.shape[0], -1)\n",
    "\n",
    "y_pred = svm_classifier.predict(X_test_flattened)\n"
   ]
  },
  {
   "cell_type": "code",
   "execution_count": 24,
   "id": "780c298a",
   "metadata": {},
   "outputs": [
    {
     "name": "stdout",
     "output_type": "stream",
     "text": [
      "Accuracy: 0.49238578680203043\n"
     ]
    }
   ],
   "source": [
    "accuracy = accuracy_score(y_test, y_pred)\n",
    "print(\"Accuracy:\", accuracy)"
   ]
  },
  {
   "cell_type": "code",
   "execution_count": 19,
   "id": "d9414862",
   "metadata": {},
   "outputs": [
    {
     "name": "stdout",
     "output_type": "stream",
     "text": [
      "              precision    recall  f1-score   support\n",
      "\n",
      "    elefante       0.63      0.59      0.61        75\n",
      "    farfalla       0.47      0.60      0.52        72\n",
      "       gatto       0.48      0.64      0.55        88\n",
      "      pecora       0.66      0.47      0.55        93\n",
      "       ragno       0.42      0.30      0.35        66\n",
      "\n",
      "    accuracy                           0.53       394\n",
      "   macro avg       0.53      0.52      0.52       394\n",
      "weighted avg       0.54      0.53      0.52       394\n",
      "\n"
     ]
    }
   ],
   "source": [
    "from sklearn.metrics import classification_report\n",
    "print(classification_report(y_test, y_pred))"
   ]
  },
  {
   "cell_type": "code",
   "execution_count": 15,
   "id": "915cfb13",
   "metadata": {},
   "outputs": [],
   "source": [
    "import cv2\n",
    "import numpy as np"
   ]
  },
  {
   "cell_type": "code",
   "execution_count": 16,
   "id": "212dd5b2",
   "metadata": {},
   "outputs": [],
   "source": [
    "new_image_path = 'far.jpg'\n",
    "new_image = cv2.imread(new_image_path)\n"
   ]
  },
  {
   "cell_type": "code",
   "execution_count": 17,
   "id": "f3f131b6",
   "metadata": {},
   "outputs": [],
   "source": [
    "preprocessed_image = cv2.resize(new_image, (32, 32))  # Resize to match training images size\n",
    "\n",
    "# Apply Spatial Pyramid Pooling to the preprocessed image\n",
    "levels = [1, 2, 4]  # Define the levels of the pyramid (e.g., 1x1, 2x2, 4x4)\n",
    "pooled_features = spatial_pyramid_pooling(preprocessed_image, levels)\n",
    "\n",
    "# Reshape the feature vector to match the format expected by the model\n",
    "pooled_features = pooled_features.reshape(1, -1)\n",
    "\n",
    "# Predict the label for the new image\n",
    "predicted_label = svm_classifier.predict(pooled_features)"
   ]
  },
  {
   "cell_type": "code",
   "execution_count": 18,
   "id": "0adc29ed",
   "metadata": {},
   "outputs": [
    {
     "data": {
      "text/plain": [
       "array(['farfalla'], dtype='<U8')"
      ]
     },
     "execution_count": 18,
     "metadata": {},
     "output_type": "execute_result"
    }
   ],
   "source": [
    "predicted_label"
   ]
  },
  {
   "cell_type": "code",
   "execution_count": null,
   "id": "7ec6f542",
   "metadata": {},
   "outputs": [],
   "source": []
  },
  {
   "cell_type": "code",
   "execution_count": null,
   "id": "66c40f1e",
   "metadata": {},
   "outputs": [],
   "source": []
  }
 ],
 "metadata": {
  "kernelspec": {
   "display_name": "Python 3 (ipykernel)",
   "language": "python",
   "name": "python3"
  },
  "language_info": {
   "codemirror_mode": {
    "name": "ipython",
    "version": 3
   },
   "file_extension": ".py",
   "mimetype": "text/x-python",
   "name": "python",
   "nbconvert_exporter": "python",
   "pygments_lexer": "ipython3",
   "version": "3.9.13"
  }
 },
 "nbformat": 4,
 "nbformat_minor": 5
}
