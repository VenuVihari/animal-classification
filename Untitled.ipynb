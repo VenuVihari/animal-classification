{
 "cells": [
  {
   "cell_type": "markdown",
   "id": "131ef715",
   "metadata": {},
   "source": [
    "# Histogram Of Oriented Gradients"
   ]
  },
  {
   "cell_type": "code",
   "execution_count": 1,
   "id": "3437f322",
   "metadata": {},
   "outputs": [
    {
     "name": "stderr",
     "output_type": "stream",
     "text": [
      "/Users/jeevanreddyramireddy/opt/anaconda3/lib/python3.9/site-packages/scipy/__init__.py:155: UserWarning: A NumPy version >=1.18.5 and <1.25.0 is required for this version of SciPy (detected version 1.26.4\n",
      "  warnings.warn(f\"A NumPy version >={np_minversion} and <{np_maxversion}\"\n"
     ]
    }
   ],
   "source": [
    "import cv2\n",
    "from skimage.feature import hog\n",
    "from sklearn.svm import SVC\n",
    "from sklearn.metrics import accuracy_score\n",
    "from sklearn.model_selection import train_test_split\n",
    "import numpy as np\n"
   ]
  },
  {
   "cell_type": "code",
   "execution_count": 13,
   "id": "71fe829e",
   "metadata": {},
   "outputs": [],
   "source": [
    "import os\n",
    "import cv2\n",
    "import numpy as np\n",
    "\n",
    "def load_dataset(datSet):\n",
    "    images = []\n",
    "    labels = []\n",
    "    for root, dirs, files in os.walk(datSet):\n",
    "        for file in files:\n",
    "            if file.endswith(\".jpg\") or file.endswith(\".jpeg\"):\n",
    "                image_path = os.path.join(root, file)\n",
    "                label = os.path.basename(root)\n",
    "                # Read the image\n",
    "                image = cv2.imread(image_path)\n",
    "                # Convert the image to grayscale\n",
    "                gray = cv2.cvtColor(image, cv2.COLOR_BGR2GRAY)\n",
    "                # Apply histogram equalization\n",
    "                equalized = cv2.equalizeHist(gray)\n",
    "                # Resize the image to a fixed size\n",
    "                resized = cv2.resize(equalized, (32, 32))\n",
    "                # You can perform additional preprocessing steps here if needed\n",
    "                images.append(resized)\n",
    "                labels.append(label)\n",
    "    return images, labels\n",
    "\n",
    "dataset_path = 'datSet'\n",
    "images, labels = load_dataset(dataset_path)\n"
   ]
  },
  {
   "cell_type": "code",
   "execution_count": 15,
   "id": "7062f70d",
   "metadata": {},
   "outputs": [],
   "source": [
    "import numpy as np\n",
    "from skimage.feature import hog\n",
    "from skimage.color import rgb2gray\n",
    "\n",
    "# Convert the images to grayscale before computing HOG features\n",
    "#grayscale_images = [rgb2gray(img) for img in images]\n",
    "\n",
    "# Compute HOG features for each grayscale image\n",
    "data = np.array([hog(img, orientations=8, pixels_per_cell=(16, 16), cells_per_block=(1, 1)) for img in grayscale_images])\n",
    "labels = np.array(labels)\n"
   ]
  },
  {
   "cell_type": "code",
   "execution_count": 16,
   "id": "74ee9d74",
   "metadata": {},
   "outputs": [],
   "source": [
    "X_train, X_test, y_train, y_test = train_test_split(data, labels, test_size=0.1, random_state=42)"
   ]
  },
  {
   "cell_type": "code",
   "execution_count": 17,
   "id": "d59344ad",
   "metadata": {},
   "outputs": [
    {
     "data": {
      "text/plain": [
       "SVC()"
      ]
     },
     "execution_count": 17,
     "metadata": {},
     "output_type": "execute_result"
    }
   ],
   "source": [
    "svm = SVC()\n",
    "svm.fit(X_train, y_train)\n"
   ]
  },
  {
   "cell_type": "code",
   "execution_count": 18,
   "id": "e8166182",
   "metadata": {
    "scrolled": true
   },
   "outputs": [
    {
     "name": "stdout",
     "output_type": "stream",
     "text": [
      "Accuracy: 0.2621507845388442\n"
     ]
    }
   ],
   "source": [
    "y_pred = svm.predict(X_test)\n",
    "accuracy = accuracy_score(y_test, y_pred)\n",
    "print(\"Accuracy:\", accuracy)\n"
   ]
  },
  {
   "cell_type": "code",
   "execution_count": 13,
   "id": "829bc514",
   "metadata": {},
   "outputs": [
    {
     "name": "stdout",
     "output_type": "stream",
     "text": [
      "              precision    recall  f1-score   support\n",
      "\n",
      "    elefante       0.41      0.19      0.26        36\n",
      "    farfalla       0.21      0.28      0.24        39\n",
      "       gatto       0.31      0.26      0.28        42\n",
      "      pecora       0.30      0.46      0.36        46\n",
      "       ragno       0.33      0.21      0.25        34\n",
      "\n",
      "    accuracy                           0.29       197\n",
      "   macro avg       0.31      0.28      0.28       197\n",
      "weighted avg       0.31      0.29      0.28       197\n",
      "\n"
     ]
    }
   ],
   "source": [
    "from sklearn.metrics import classification_report\n",
    "print(classification_report(y_test, y_pred))"
   ]
  },
  {
   "cell_type": "markdown",
   "id": "f3359321",
   "metadata": {},
   "source": [
    "# Testing"
   ]
  },
  {
   "cell_type": "code",
   "execution_count": 7,
   "id": "c0996aab",
   "metadata": {},
   "outputs": [],
   "source": [
    "import cv2\n",
    "\n",
    "# Load the new image\n",
    "new_image = cv2.imread('ragno.jpg')\n"
   ]
  },
  {
   "cell_type": "code",
   "execution_count": 8,
   "id": "0f615bf6",
   "metadata": {},
   "outputs": [],
   "source": [
    "# Resize the image (if needed)\n",
    "resized_image = cv2.resize(new_image, (32, 32))  # Specify width and height\n",
    "\n",
    "# Convert the image to grayscale\n",
    "gray_image = cv2.cvtColor(resized_image, cv2.COLOR_BGR2GRAY)\n"
   ]
  },
  {
   "cell_type": "code",
   "execution_count": 9,
   "id": "2b2508c4",
   "metadata": {},
   "outputs": [],
   "source": [
    "from skimage.feature import hog\n",
    "\n",
    "# Extract HOG features for the new image\n",
    "hog_features = hog(gray_image, orientations=8, pixels_per_cell=(16, 16), cells_per_block=(1, 1))\n"
   ]
  },
  {
   "cell_type": "code",
   "execution_count": 10,
   "id": "84425369",
   "metadata": {},
   "outputs": [],
   "source": [
    "# Reshape the feature vector\n",
    "hog_features = hog_features.reshape(1, -1)\n"
   ]
  },
  {
   "cell_type": "markdown",
   "id": "81633b31",
   "metadata": {},
   "source": []
  },
  {
   "cell_type": "code",
   "execution_count": 11,
   "id": "0ade4569",
   "metadata": {},
   "outputs": [
    {
     "data": {
      "text/plain": [
       "array(['ragno'], dtype='<U8')"
      ]
     },
     "execution_count": 11,
     "metadata": {},
     "output_type": "execute_result"
    }
   ],
   "source": [
    "# Predict the label for the new image\n",
    "predicted_label = svm.predict(hog_features)\n",
    "predicted_label"
   ]
  },
  {
   "cell_type": "code",
   "execution_count": null,
   "id": "153b45d6",
   "metadata": {},
   "outputs": [],
   "source": []
  }
 ],
 "metadata": {
  "kernelspec": {
   "display_name": "Python 3 (ipykernel)",
   "language": "python",
   "name": "python3"
  },
  "language_info": {
   "codemirror_mode": {
    "name": "ipython",
    "version": 3
   },
   "file_extension": ".py",
   "mimetype": "text/x-python",
   "name": "python",
   "nbconvert_exporter": "python",
   "pygments_lexer": "ipython3",
   "version": "3.9.13"
  }
 },
 "nbformat": 4,
 "nbformat_minor": 5
}
